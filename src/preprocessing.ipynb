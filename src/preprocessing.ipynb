{
 "cells": [
  {
   "cell_type": "code",
   "metadata": {},
   "outputs": [],
   "source": [
    "import pandas as pd\n",
    "import os"
   ]
  },
  {
   "cell_type": "markdown",
   "metadata": {},
   "source": [
    "### preprocessing CMNPD"
   ]
  },
  {
   "cell_type": "code",
   "metadata": {},
   "outputs": [],
   "source": [
    "cmnpd_animalia = \"../data/raw/CMNPD-animalia-after2000.tsv\"\n",
    "cmnpd_bacteria = \"../data/raw/CMNPD-bacteria-after2000.tsv\"\n",
    "cmnpd_fungi = \"../data/raw/CMNPD-fungi-after2000.tsv\"\n",
    "\n",
    "\n",
    "def load_cmnpd(filepath, label):\n",
    "    df = pd.read_csv(filepath, sep=\"\\t\")\n",
    "    if \"SMILES\" not in df.columns:\n",
    "        raise ValueError(f\"{filepath} does not contain a SMILES column\")\n",
    "    df['labels'] = label\n",
    "    return df[['SMILES', 'labels']]\n",
    "\n",
    "animalia_data = load_cmnpd(cmnpd_animalia, 0)\n",
    "bacteria_data = load_cmnpd(cmnpd_bacteria, 1)\n",
    "fungi_data = load_cmnpd(cmnpd_fungi, 2)\n",
    "\n",
    "cmnpd_combined = pd.concat([animalia_data, bacteria_data, fungi_data], ignore_index=True)\n",
    "\n",
    "cmnpd_combined.to_csv('../data/processed/data_cmnpd_after2000.csv',index=False)"
   ]
  },
  {
   "cell_type": "markdown",
   "metadata": {},
   "source": [
    "### preprocessing NPAtlas"
   ]
  },
  {
   "cell_type": "code",
   "metadata": {},
   "outputs": [],
   "source": [
    "npatlas_file = \"../data/raw/NPAtlas_download_2024_09.tsv\"\n",
    "npatlas_data = pd.read_csv(npatlas_file, sep=\"\\t\")\n",
    "npatlas_data = npatlas_data[['compound_smiles','origin_type']]\n",
    "npatlas_data = npatlas_data[npatlas_data['origin_type'].isin(['Bacterium', 'Fungus'])]\n",
    "npatlas_data['origin_type'] = npatlas_data['origin_type'].map({'Bacterium': 1, 'Fungus': 2})\n",
    "npatlas_data = npatlas_data.rename(columns={\n",
    "    'compound_smiles': 'SMILES',\n",
    "    'origin_type': 'labels'\n",
    "})\n",
    "\n",
    "npatlas_data.to_csv('../data/processed/npatlas.csv',index=False)"
   ]
  },
  {
   "cell_type": "markdown",
   "metadata": {},
   "source": [
    "# "
   ]
  }
 ],
 "metadata": {
  "kernelspec": {
   "display_name": "chemprop",
   "language": "python",
   "name": "chemprop"
  },
  "language_info": {
   "codemirror_mode": {
    "name": "ipython",
    "version": 3
   },
   "file_extension": ".py",
   "mimetype": "text/x-python",
   "name": "python",
   "nbconvert_exporter": "python",
   "pygments_lexer": "ipython3",
   "version": "3.11.11"
  }
 },
 "nbformat": 4,
 "nbformat_minor": 4
}
