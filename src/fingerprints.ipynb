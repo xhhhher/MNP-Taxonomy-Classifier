{
 "cells": [
  {
   "cell_type": "code",
   "execution_count": 6,
   "metadata": {},
   "outputs": [],
   "source": [
    "import pandas as pd\n",
    "import numpy as np\n",
    "from rdkit import Chem\n",
    "from rdkit.Chem import AllChem\n",
    "import os\n",
    "import subprocess"
   ]
  },
  {
   "cell_type": "markdown",
   "metadata": {},
   "source": [
    "## MAP4"
   ]
  },
  {
   "cell_type": "code",
   "execution_count": 2,
   "metadata": {},
   "outputs": [],
   "source": [
    "input_csv = '../data/processed/data_cmnpd_after2000.csv' \n",
    "output_smi = '../data/processed/data_cmnpd_after2000.smi' \n",
    "\n",
    "df = pd.read_csv(input_csv)\n",
    "\n",
    "smiles_column = df.columns[0]  \n",
    "smiles_list = df[smiles_column]  \n",
    "\n",
    "with open(output_smi, 'w') as smi_file:\n",
    "    for smile in smiles_list:\n",
    "        smi_file.write(f\"{smile}\\n\")"
   ]
  },
  {
   "cell_type": "markdown",
   "metadata": {},
   "source": [
    "###  Generating MAP4 Fingerprints\n",
    "\n",
    "We use the [MAP4](http://github.com/reymond-group/map4) , a universal molecular fingerprint designed to capture both small molecule substructure and large molecular scaffolds, including peptides and complex natural products \n",
    "\n",
    "\n",
    "To generate MAP4 fingerprints in this project, follow these steps:\n"
   ]
  },
  {
   "cell_type": "markdown",
   "metadata": {},
   "source": [
    "1. Clone the MAP4 repository\n",
    "\n",
    "`git clone https://github.com/reymond-group/map4.git@v1.0`\n",
    "\n",
    "`cd map4`\n",
    "\n",
    "2. Install dependencies via Conda\n",
    "\n",
    "`conda env create -f environment.yml`\n",
    "\n",
    "`conda activate map4`\n",
    "\n",
    "Alternatively, install via pip (requires RDKit and tmap)\n",
    "\n",
    "`pip install git+https://github.com/reymond-group/map4@v1.0`\n",
    "\n",
    "3. Once installed, you can generate MAP4 fingerprints from a SMILES file\n",
    "\n",
    "`cd map4`\n",
    "\n",
    "`python map4.py -i /data/processed/data_cmnpd_after2000.smi -o /data/map4output`"
   ]
  },
  {
   "cell_type": "code",
   "execution_count": 5,
   "metadata": {},
   "outputs": [],
   "source": [
    "input_file_path = '../data/map4output'  \n",
    "output_file_path = '../data/MAP4.csv'\n",
    "\n",
    "with open(input_file_path, 'r') as file:\n",
    "    lines = file.readlines()\n",
    "\n",
    "fingerprints = []\n",
    "for line in lines:\n",
    "    parts = line.strip().split('\\t')  \n",
    "    if len(parts) > 1:  \n",
    "        fingerprint_values = parts[2].split(';')\n",
    "        fingerprints.append(fingerprint_values)\n",
    "\n",
    "fingerprints_df = pd.DataFrame(fingerprints)\n",
    "\n",
    "column_names = [f'fp_{i}' for i in range(fingerprints_df.shape[1])]\n",
    "fingerprints_df.columns = column_names\n",
    "\n",
    "fingerprints_df.to_csv(output_file_path, index=False)\n"
   ]
  },
  {
   "cell_type": "code",
   "execution_count": null,
   "metadata": {},
   "outputs": [],
   "source": [
    "file = '../data/processed/data_cmnpd_after2000.csv' \n",
    "smiles_file = '../data/processed/data_cmnpd_after2000_smiles_only.csv'\n",
    "\n",
    "df = pd.read_csv(file)\n",
    "smiles_df = df[['SMILES']]  \n",
    "smiles_df.to_csv(smiles_file, index=False)"
   ]
  },
  {
   "cell_type": "markdown",
   "metadata": {},
   "source": [
    "## MPN"
   ]
  },
  {
   "cell_type": "code",
   "execution_count": 8,
   "metadata": {},
   "outputs": [],
   "source": [
    "\n",
    "\n",
    "command = [\n",
    "    'chemprop', 'fingerprint',\n",
    "    '--test-path', smiles_file, \n",
    "    '--preds-path', '../data/data_cmnpd_after2000_MPN.csv',\n",
    "    '--model-paths', '../results/models/model_after2000/fold_0/model_0/checkpoints/best-epoch=128-val_loss=0.58.ckpt',\n",
    "    '--num-workers', '0',\n",
    "    '--ffn-block-index', '0'\n",
    "]\n",
    "\n",
    "subprocess.run(command)"
   ]
  },
  {
   "cell_type": "markdown",
   "metadata": {},
   "source": [
    "## last_FFN"
   ]
  },
  {
   "cell_type": "code",
   "execution_count": null,
   "metadata": {},
   "outputs": [],
   "source": [
    "command = [\n",
    "    'chemprop', 'fingerprint',\n",
    "    '--test-path', smiles_file, \n",
    "    '--preds-path', '../data/data_cmnpd_after2000_last_FFN.csv',\n",
    "    '--model-paths', '../results/models/model_after2000/fold_0/model_0/checkpoints/best-epoch=128-val_loss=0.58.ckpt',\n",
    "    '--num-workers', '0',\n",
    "    '--ffn-block-index', '-1'\n",
    "]\n",
    "\n",
    "subprocess.run(command)"
   ]
  }
 ],
 "metadata": {
  "kernelspec": {
   "display_name": "chemprop",
   "language": "python",
   "name": "chemprop"
  },
  "language_info": {
   "codemirror_mode": {
    "name": "ipython",
    "version": 3
   },
   "file_extension": ".py",
   "mimetype": "text/x-python",
   "name": "python",
   "nbconvert_exporter": "python",
   "pygments_lexer": "ipython3",
   "version": "3.11.11"
  }
 },
 "nbformat": 4,
 "nbformat_minor": 4
}
