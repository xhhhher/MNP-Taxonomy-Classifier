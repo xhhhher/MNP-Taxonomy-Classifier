{
 "cells": [
  {
   "cell_type": "code",
   "execution_count": null,
   "metadata": {},
   "outputs": [],
   "source": [
    "from rdkit import Chem\n",
    "from rdkit.Chem import rdMolDescriptors\n",
    "import pandas as pd\n",
    "from tqdm import tqdm"
   ]
  },
  {
   "cell_type": "code",
   "execution_count": null,
   "metadata": {},
   "outputs": [],
   "source": [
    "tqdm.pandas() "
   ]
  },
  {
   "cell_type": "code",
   "execution_count": 3,
   "metadata": {},
   "outputs": [],
   "source": [
    "pretrain_path = \"../../data/processed/npatlas.csv\"\n",
    "test_path = \"../../data/processed/CMNPD2.0_test_set.csv\""
   ]
  },
  {
   "cell_type": "code",
   "execution_count": 4,
   "metadata": {},
   "outputs": [],
   "source": [
    "pretrain_df = pd.read_csv(pretrain_path)\n",
    "test_df = pd.read_csv(test_path)"
   ]
  },
  {
   "cell_type": "code",
   "execution_count": 6,
   "metadata": {},
   "outputs": [
    {
     "name": "stderr",
     "output_type": "stream",
     "text": [
      " 83%|████████▎ | 30431/36454 [00:07<00:01, 3967.77it/s][16:18:54] WARNING: not removing hydrogen atom without neighbors\n",
      " 91%|█████████ | 33068/36454 [00:08<00:00, 3612.76it/s][16:18:55] WARNING: not removing hydrogen atom without neighbors\n",
      "100%|██████████| 36454/36454 [00:09<00:00, 3881.38it/s]\n",
      "100%|██████████| 5922/5922 [00:01<00:00, 3781.77it/s]"
     ]
    },
    {
     "name": "stdout",
     "output_type": "stream",
     "text": [
      "original testset：5922\n",
      "new testset：3659\n",
      "remove：2263\n"
     ]
    },
    {
     "name": "stderr",
     "output_type": "stream",
     "text": [
      "\n"
     ]
    }
   ],
   "source": [
    "def canonicalize_no_stereo(smiles):\n",
    "    mol = Chem.MolFromSmiles(smiles)\n",
    "    if mol is None:\n",
    "        return None\n",
    "    Chem.RemoveStereochemistry(mol)\n",
    "    return Chem.MolToSmiles(mol, isomericSmiles=False, canonical=True)\n",
    "\n",
    "pretrain_df[\"std_smiles\"] = pretrain_df[\"SMILES\"].progress_apply(canonicalize_no_stereo)\n",
    "test_df[\"std_smiles\"] = test_df[\"SMILES\"].progress_apply(canonicalize_no_stereo)\n",
    "\n",
    "pretrain_smiles_set = set(pretrain_df[\"std_smiles\"].dropna())\n",
    "filtered_test_df = test_df[~test_df[\"std_smiles\"].isin(pretrain_smiles_set)].copy()\n",
    "\n",
    "filtered_test_df.drop(columns=[\"std_smiles\"], inplace=True)\n",
    "\n",
    "filtered_test_df.to_csv(\"../../data/processed/final_testset.csv\", index=False)\n",
    "\n",
    "print(f\"original testset：{len(test_df)}\")\n",
    "print(f\"new testset：{len(filtered_test_df)}\")\n",
    "print(f\"remove：{len(test_df) - len(filtered_test_df)}\")"
   ]
  }
 ],
 "metadata": {
  "kernelspec": {
   "display_name": "Python 3",
   "language": "python",
   "name": "python3"
  },
  "language_info": {
   "codemirror_mode": {
    "name": "ipython",
    "version": 3
   },
   "file_extension": ".py",
   "mimetype": "text/x-python",
   "name": "python",
   "nbconvert_exporter": "python",
   "pygments_lexer": "ipython3",
   "version": "3.8.3"
  }
 },
 "nbformat": 4,
 "nbformat_minor": 4
}
